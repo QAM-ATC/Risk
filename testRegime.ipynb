{
 "metadata": {
  "language_info": {
   "codemirror_mode": {
    "name": "ipython",
    "version": 3
   },
   "file_extension": ".py",
   "mimetype": "text/x-python",
   "name": "python",
   "nbconvert_exporter": "python",
   "pygments_lexer": "ipython3",
   "version": "3.7.6"
  },
  "orig_nbformat": 2,
  "kernelspec": {
   "name": "python376jvsc74a57bd0fc48a2c494015754350a8c6c25e3d5484603c9831f211b9d7d865e6993f35cdc",
   "display_name": "Python 3.7.6 64-bit ('Risk-z14c5i0K': pipenv)"
  }
 },
 "nbformat": 4,
 "nbformat_minor": 2,
 "cells": [
  {
   "cell_type": "code",
   "execution_count": 270,
   "metadata": {},
   "outputs": [
    {
     "output_type": "stream",
     "name": "stdout",
     "text": [
      "The autoreload extension is already loaded. To reload it, use:\n  %reload_ext autoreload\n"
     ]
    }
   ],
   "source": [
    "import pandas as pd\n",
    "import numpy as np\n",
    "from regimeSignal import regimeSignalModel\n",
    "from Miscellaneous import Plot, FetchData\n",
    "from pypfopt import expected_returns, risk_models\n",
    "import datetime\n",
    "from dateutil import relativedelta\n",
    "%load_ext autoreload\n",
    "%autoreload 2"
   ]
  },
  {
   "cell_type": "code",
   "execution_count": 271,
   "metadata": {},
   "outputs": [
    {
     "output_type": "stream",
     "name": "stdout",
     "text": [
      "...Data for ['ABM', 'ABC', 'AlEX'] from 2014-01-01 to 2014-12-31 loaded successfully\n"
     ]
    },
    {
     "output_type": "execute_result",
     "data": {
      "text/plain": [
       "ticker        ABC    ABM   ALEX\n",
       "date                           \n",
       "2014-01-02  69.89  28.24  41.51\n",
       "2014-01-03  69.94  28.43  42.14\n",
       "2014-01-06  69.69  28.33  42.26\n",
       "2014-01-07  70.45  28.45  42.15\n",
       "2014-01-08  71.14  28.28  42.15"
      ],
      "text/html": "<div>\n<style scoped>\n    .dataframe tbody tr th:only-of-type {\n        vertical-align: middle;\n    }\n\n    .dataframe tbody tr th {\n        vertical-align: top;\n    }\n\n    .dataframe thead th {\n        text-align: right;\n    }\n</style>\n<table border=\"1\" class=\"dataframe\">\n  <thead>\n    <tr style=\"text-align: right;\">\n      <th>ticker</th>\n      <th>ABC</th>\n      <th>ABM</th>\n      <th>ALEX</th>\n    </tr>\n    <tr>\n      <th>date</th>\n      <th></th>\n      <th></th>\n      <th></th>\n    </tr>\n  </thead>\n  <tbody>\n    <tr>\n      <th>2014-01-02</th>\n      <td>69.89</td>\n      <td>28.24</td>\n      <td>41.51</td>\n    </tr>\n    <tr>\n      <th>2014-01-03</th>\n      <td>69.94</td>\n      <td>28.43</td>\n      <td>42.14</td>\n    </tr>\n    <tr>\n      <th>2014-01-06</th>\n      <td>69.69</td>\n      <td>28.33</td>\n      <td>42.26</td>\n    </tr>\n    <tr>\n      <th>2014-01-07</th>\n      <td>70.45</td>\n      <td>28.45</td>\n      <td>42.15</td>\n    </tr>\n    <tr>\n      <th>2014-01-08</th>\n      <td>71.14</td>\n      <td>28.28</td>\n      <td>42.15</td>\n    </tr>\n  </tbody>\n</table>\n</div>"
     },
     "metadata": {},
     "execution_count": 271
    }
   ],
   "source": [
    "tickers = [\"ABM\", \"ABC\", \"AlEX\"]\n",
    "data = FetchData().test_set(ticker=tickers, startDate=\"2014-01-01\", endDate=\"2014-12-31\")\n",
    "#data.resample('1M').mean()\n",
    "data.head()"
   ]
  },
  {
   "cell_type": "code",
   "execution_count": 272,
   "metadata": {},
   "outputs": [
    {
     "output_type": "execute_result",
     "data": {
      "text/plain": [
       "date\n",
       "2014-03-31   -1\n",
       "2014-04-30    1\n",
       "2014-05-31    1\n",
       "2014-06-30    1\n",
       "2014-07-31   -1\n",
       "2014-08-31    0\n",
       "2014-09-30    1\n",
       "2014-10-31    0\n",
       "2014-11-30    0\n",
       "2014-12-31    1\n",
       "Freq: M, dtype: int64"
      ]
     },
     "metadata": {},
     "execution_count": 272
    }
   ],
   "source": [
    "regimeSignals = pd.Series(data=[item-1 for item in np.random.choice(3, len(data.resample('1M').mean()), replace=True)],index=data.resample('1M').mean().index)\n",
    "regimeSignals = regimeSignals[2:]\n",
    "regimeSignals"
   ]
  },
  {
   "cell_type": "code",
   "execution_count": 273,
   "metadata": {},
   "outputs": [
    {
     "output_type": "stream",
     "name": "stdout",
     "text": [
      "...Data for USTREASURY/YIELD.3 from 2014-01-02 to 2014-03-31 loaded successfully\n",
      "...Data for USTREASURY/YIELD.3 from 2014-02-03 to 2014-04-30 loaded successfully\n",
      "...Data for USTREASURY/YIELD.3 from 2014-03-03 to 2014-05-30 loaded successfully\n",
      "...Data for USTREASURY/YIELD.3 from 2014-04-01 to 2014-06-30 loaded successfully\n",
      "...Data for USTREASURY/YIELD.3 from 2014-05-01 to 2014-07-31 loaded successfully\n",
      "...Data for USTREASURY/YIELD.3 from 2014-06-02 to 2014-08-29 loaded successfully\n",
      "...Data for USTREASURY/YIELD.3 from 2014-07-01 to 2014-09-30 loaded successfully\n",
      "...Data for USTREASURY/YIELD.3 from 2014-08-01 to 2014-10-31 loaded successfully\n",
      "...Data for USTREASURY/YIELD.3 from 2014-09-02 to 2014-11-28 loaded successfully\n",
      "...Data for USTREASURY/YIELD.3 from 2014-10-01 to 2014-12-31 loaded successfully\n"
     ]
    }
   ],
   "source": [
    "RSModel = regimeSignalModel(regimeSignals,data)"
   ]
  },
  {
   "cell_type": "code",
   "execution_count": 274,
   "metadata": {},
   "outputs": [
    {
     "output_type": "stream",
     "name": "stdout",
     "text": [
      "max sharpe\n",
      "Training dates 2014-01-02 00:00:00 2014-03-31 00:00:00 \n",
      "Regime Signal dates 2014-03-31 00:00:00 \n",
      "Risk-free rate 0.05\n",
      "ticker\n",
      "ABC    -0.234095\n",
      "ABM     0.076497\n",
      "ALEX    0.110620\n",
      "dtype: float64\n",
      "ticker       ABC       ABM      ALEX\n",
      "ticker                              \n",
      "ABC     0.032500  0.010722  0.006764\n",
      "ABM     0.010722  0.041095  0.016620\n",
      "ALEX    0.006764  0.016620  0.063676\n",
      "\n",
      "{'ABC': 0.1111111111111111, 'ABM': 0.1111111111111111, 'ALEX': 0.7777777777777779}\n",
      "\n",
      "\n",
      "\n",
      "min vol\n",
      "Training dates 2014-02-03 00:00:00 2014-04-30 00:00:00 \n",
      "Regime Signal dates 2014-04-30 00:00:00 \n",
      "Risk-free rate 0.05\n",
      "ticker\n",
      "ABC     0.000645\n",
      "ABM     0.186338\n",
      "ALEX   -0.046989\n",
      "dtype: float64\n",
      "ticker       ABC       ABM      ALEX\n",
      "ticker                              \n",
      "ABC     0.034075  0.007763  0.003044\n",
      "ABM     0.007763  0.042696  0.013308\n",
      "ALEX    0.003044  0.013308  0.062829\n",
      "\n",
      "{'ABC': 0.4809326744812549, 'ABM': 0.2969943896070222, 'ALEX': 0.2220729359117228}\n",
      "\n",
      "\n",
      "\n",
      "min vol\n",
      "Training dates 2014-03-03 00:00:00 2014-05-30 00:00:00 \n",
      "Regime Signal dates 2014-05-31 00:00:00 \n",
      "Risk-free rate 0.04\n",
      "ticker\n",
      "ABC     0.388732\n",
      "ABM    -0.131184\n",
      "ALEX   -0.261834\n",
      "dtype: float64\n",
      "ticker       ABC       ABM      ALEX\n",
      "ticker                              \n",
      "ABC     0.031071  0.011343  0.004805\n",
      "ABM     0.011343  0.050278  0.027369\n",
      "ALEX    0.004805  0.027369  0.063979\n",
      "\n",
      "{'ABC': 0.6025426585848791, 'ABM': 0.1782897789015243, 'ALEX': 0.2191675625135966}\n",
      "\n",
      "\n",
      "\n",
      "min vol\n",
      "Training dates 2014-04-01 00:00:00 2014-06-30 00:00:00 \n",
      "Regime Signal dates 2014-06-30 00:00:00 \n",
      "Risk-free rate 0.03\n",
      "ticker\n",
      "ABC     0.486306\n",
      "ABM    -0.236286\n",
      "ALEX   -0.063999\n",
      "dtype: float64\n",
      "ticker       ABC       ABM      ALEX\n",
      "ticker                              \n",
      "ABC     0.024997  0.007183  0.003194\n",
      "ABM     0.007183  0.038672  0.018722\n",
      "ALEX    0.003194  0.018722  0.070253\n",
      "\n",
      "{'ABC': 0.591051151550872, 'ABM': 0.2618292422739097, 'ALEX': 0.1471196061752184}\n",
      "\n",
      "\n",
      "\n",
      "max sharpe\n",
      "Training dates 2014-05-01 00:00:00 2014-07-31 00:00:00 \n",
      "Regime Signal dates 2014-07-31 00:00:00 \n",
      "Risk-free rate 0.03\n",
      "ticker\n",
      "ABC     0.975858\n",
      "ABM    -0.295271\n",
      "ALEX    0.088419\n",
      "dtype: float64\n",
      "ticker       ABC       ABM      ALEX\n",
      "ticker                              \n",
      "ABC     0.019618  0.003829  0.001850\n",
      "ABM     0.003829  0.035645  0.018680\n",
      "ALEX    0.001850  0.018680  0.086572\n",
      "\n",
      "{'ABC': 0.7777777777777778, 'ABM': 0.1111111111111111, 'ALEX': 0.1111111111111111}\n",
      "\n",
      "\n",
      "\n",
      "custom: maximum 15% volatility\n",
      "Training dates 2014-06-02 00:00:00 2014-08-29 00:00:00 \n",
      "Regime Signal dates 2014-08-31 00:00:00 \n",
      "Risk-free rate 0.03\n",
      "ticker\n",
      "ABC     0.248699\n",
      "ABM    -0.109174\n",
      "ALEX    0.392622\n",
      "dtype: float64\n",
      "ticker       ABC       ABM      ALEX\n",
      "ticker                              \n",
      "ABC     0.017308  0.000780  0.000105\n",
      "ABM     0.000780  0.024655  0.008443\n",
      "ALEX    0.000105  0.008443  0.062873\n",
      "\n",
      "{'ABC': 0.3378944094179666, 'ABM': 0.1111111129292332, 'ALEX': 0.5509944776527631}\n",
      "\n",
      "\n",
      "\n",
      "min vol\n",
      "Training dates 2014-07-01 00:00:00 2014-09-30 00:00:00 \n",
      "Regime Signal dates 2014-09-30 00:00:00 \n",
      "Risk-free rate 0.03\n",
      "ticker\n",
      "ABC     0.258643\n",
      "ABM    -0.204242\n",
      "ALEX   -0.447963\n",
      "dtype: float64\n",
      "ticker       ABC       ABM      ALEX\n",
      "ticker                              \n",
      "ABC     0.021395  0.002853  0.002533\n",
      "ABM     0.002853  0.033753  0.009701\n",
      "ALEX    0.002533  0.009701  0.049931\n",
      "\n",
      "{'ABC': 0.5412989195166759, 'ABM': 0.2843705903151857, 'ALEX': 0.1743304901681384}\n",
      "\n",
      "\n",
      "\n",
      "custom: maximum 15% volatility\n",
      "Training dates 2014-08-01 00:00:00 2014-10-31 00:00:00 \n",
      "Regime Signal dates 2014-10-31 00:00:00 \n",
      "Risk-free rate 0.02\n",
      "ticker\n",
      "ABC     0.444785\n",
      "ABM     0.589775\n",
      "ALEX    0.228699\n",
      "dtype: float64\n",
      "ticker       ABC       ABM      ALEX\n",
      "ticker                              \n",
      "ABC     0.033960  0.008829  0.010143\n",
      "ABM     0.008829  0.040226  0.018069\n",
      "ALEX    0.010143  0.018069  0.057327\n",
      "\n",
      "{'ABC': 0.3697069857584954, 'ABM': 0.5191819030035775, 'ALEX': 0.1111111112476126}\n",
      "\n",
      "\n",
      "\n",
      "custom: maximum 15% volatility\n",
      "Training dates 2014-09-02 00:00:00 2014-11-28 00:00:00 \n",
      "Regime Signal dates 2014-11-30 00:00:00 \n",
      "Risk-free rate 0.02\n",
      "ticker\n",
      "ABC     0.960729\n",
      "ABM     0.052676\n",
      "ALEX   -0.301868\n",
      "dtype: float64\n",
      "ticker       ABC       ABM      ALEX\n",
      "ticker                              \n",
      "ABC     0.036032  0.008535  0.009225\n",
      "ABM     0.008535  0.041104  0.019348\n",
      "ALEX    0.009225  0.019348  0.061506\n",
      "\n",
      "{'ABC': 0.5919473291712328, 'ABM': 0.2969415544281288, 'ALEX': 0.1111111164093071}\n",
      "\n",
      "\n",
      "\n",
      "min vol\n",
      "Training dates 2014-10-01 00:00:00 2014-12-31 00:00:00 \n",
      "Regime Signal dates 2014-12-31 00:00:00 \n",
      "Risk-free rate 0.02\n",
      "ticker\n",
      "ABC     0.910296\n",
      "ABM     0.676006\n",
      "ALEX    0.502610\n",
      "dtype: float64\n",
      "ticker       ABC       ABM      ALEX\n",
      "ticker                              \n",
      "ABC     0.039481  0.007255  0.011385\n",
      "ABM     0.007255  0.039486  0.014131\n",
      "ALEX    0.011385  0.014131  0.076958\n",
      "\n",
      "{'ABC': 0.4350499643056606, 'ABM': 0.4228828108198716, 'ALEX': 0.1420672248744676}\n",
      "\n",
      "\n",
      "\n"
     ]
    }
   ],
   "source": [
    "wts=RSModel.getWeights(verbose=True)"
   ]
  },
  {
   "cell_type": "code",
   "execution_count": 275,
   "metadata": {},
   "outputs": [
    {
     "output_type": "stream",
     "name": "stdout",
     "text": [
      "0.9999999999999999 1.0 1.0000000000061058\n"
     ]
    },
    {
     "output_type": "execute_result",
     "data": {
      "text/plain": [
       "{1: {'ABC': 0.5301750736878684,\n",
       "  'ABM': 0.2888733623835027,\n",
       "  'ALEX': 0.18095156392862877},\n",
       " -1: {'ABC': 0.4444444444444444,\n",
       "  'ABM': 0.1111111111111111,\n",
       "  'ALEX': 0.44444444444444453},\n",
       " 0: {'ABC': 0.43318290811589827,\n",
       "  'ABM': 0.3090781901203132,\n",
       "  'ALEX': 0.2577389017698943}}"
      ]
     },
     "metadata": {},
     "execution_count": 275
    }
   ],
   "source": [
    "print(np.sum(list(wts[1].values())),np.sum(list(wts[-1].values())),np.sum(list(wts[0].values())))\n",
    "wts"
   ]
  }
 ]
}