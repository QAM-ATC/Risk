{
 "cells": [
  {
   "cell_type": "code",
   "execution_count": 1,
   "source": [
    "!pip install quant-risk"
   ],
   "outputs": [
    {
     "output_type": "stream",
     "name": "stdout",
     "text": [
      "Collecting quant-risk\n",
      "  Downloading quant_risk-1.1.1-py3-none-any.whl (27 kB)\n",
      "Requirement already satisfied: numpy in /Users/uday/.local/share/virtualenvs/Risk-z14c5i0K/lib/python3.7/site-packages (from quant-risk) (1.20.3)\n",
      "Collecting empyrical==0.5.5\n",
      "  Using cached empyrical-0.5.5-py3-none-any.whl\n",
      "Requirement already satisfied: statsmodels==0.12.2 in /Users/uday/.local/share/virtualenvs/Risk-z14c5i0K/lib/python3.7/site-packages (from quant-risk) (0.12.2)\n",
      "Collecting pyportfolioopt==1.4.2\n",
      "  Downloading PyPortfolioOpt-1.4.2-py3-none-any.whl (60 kB)\n",
      "\u001b[K     |████████████████████████████████| 60 kB 6.8 MB/s \n",
      "\u001b[?25hRequirement already satisfied: pandas in /Users/uday/.local/share/virtualenvs/Risk-z14c5i0K/lib/python3.7/site-packages (from quant-risk) (1.2.4)\n",
      "Requirement already satisfied: matplotlib==3.4.2 in /Users/uday/.local/share/virtualenvs/Risk-z14c5i0K/lib/python3.7/site-packages (from quant-risk) (3.4.2)\n",
      "Requirement already satisfied: sklearn in /Users/uday/.local/share/virtualenvs/Risk-z14c5i0K/lib/python3.7/site-packages (from quant-risk) (0.0)\n",
      "Requirement already satisfied: scipy>=0.15.1 in /Users/uday/.local/share/virtualenvs/Risk-z14c5i0K/lib/python3.7/site-packages (from empyrical==0.5.5->quant-risk) (1.6.3)\n",
      "Collecting pandas-datareader>=0.2\n",
      "  Downloading pandas_datareader-0.10.0-py3-none-any.whl (109 kB)\n",
      "\u001b[K     |████████████████████████████████| 109 kB 11.2 MB/s \n",
      "\u001b[?25hRequirement already satisfied: pyparsing>=2.2.1 in /Users/uday/.local/share/virtualenvs/Risk-z14c5i0K/lib/python3.7/site-packages (from matplotlib==3.4.2->quant-risk) (2.4.7)\n",
      "Requirement already satisfied: python-dateutil>=2.7 in /Users/uday/.local/share/virtualenvs/Risk-z14c5i0K/lib/python3.7/site-packages (from matplotlib==3.4.2->quant-risk) (2.8.1)\n",
      "Requirement already satisfied: pillow>=6.2.0 in /Users/uday/.local/share/virtualenvs/Risk-z14c5i0K/lib/python3.7/site-packages (from matplotlib==3.4.2->quant-risk) (8.2.0)\n",
      "Requirement already satisfied: cycler>=0.10 in /Users/uday/.local/share/virtualenvs/Risk-z14c5i0K/lib/python3.7/site-packages (from matplotlib==3.4.2->quant-risk) (0.10.0)\n",
      "Requirement already satisfied: kiwisolver>=1.0.1 in /Users/uday/.local/share/virtualenvs/Risk-z14c5i0K/lib/python3.7/site-packages (from matplotlib==3.4.2->quant-risk) (1.3.1)\n",
      "Requirement already satisfied: cvxpy<2.0.0,>=1.1.10 in /Users/uday/.local/share/virtualenvs/Risk-z14c5i0K/lib/python3.7/site-packages (from pyportfolioopt==1.4.2->quant-risk) (1.1.13)\n",
      "Requirement already satisfied: patsy>=0.5 in /Users/uday/.local/share/virtualenvs/Risk-z14c5i0K/lib/python3.7/site-packages (from statsmodels==0.12.2->quant-risk) (0.5.1)\n",
      "Requirement already satisfied: osqp>=0.4.1 in /Users/uday/.local/share/virtualenvs/Risk-z14c5i0K/lib/python3.7/site-packages (from cvxpy<2.0.0,>=1.1.10->pyportfolioopt==1.4.2->quant-risk) (0.6.1)\n",
      "Requirement already satisfied: ecos>=2 in /Users/uday/.local/share/virtualenvs/Risk-z14c5i0K/lib/python3.7/site-packages (from cvxpy<2.0.0,>=1.1.10->pyportfolioopt==1.4.2->quant-risk) (2.0.7.post1)\n",
      "Requirement already satisfied: scs>=1.1.6 in /Users/uday/.local/share/virtualenvs/Risk-z14c5i0K/lib/python3.7/site-packages (from cvxpy<2.0.0,>=1.1.10->pyportfolioopt==1.4.2->quant-risk) (2.1.4)\n",
      "Requirement already satisfied: six in /Users/uday/.local/share/virtualenvs/Risk-z14c5i0K/lib/python3.7/site-packages (from cycler>=0.10->matplotlib==3.4.2->quant-risk) (1.16.0)\n",
      "Requirement already satisfied: future in /Users/uday/.local/share/virtualenvs/Risk-z14c5i0K/lib/python3.7/site-packages (from osqp>=0.4.1->cvxpy<2.0.0,>=1.1.10->pyportfolioopt==1.4.2->quant-risk) (0.18.2)\n",
      "Requirement already satisfied: pytz>=2017.3 in /Users/uday/.local/share/virtualenvs/Risk-z14c5i0K/lib/python3.7/site-packages (from pandas->quant-risk) (2021.1)\n",
      "Requirement already satisfied: requests>=2.19.0 in /Users/uday/.local/share/virtualenvs/Risk-z14c5i0K/lib/python3.7/site-packages (from pandas-datareader>=0.2->empyrical==0.5.5->quant-risk) (2.25.1)\n",
      "Requirement already satisfied: lxml in /Users/uday/.local/share/virtualenvs/Risk-z14c5i0K/lib/python3.7/site-packages (from pandas-datareader>=0.2->empyrical==0.5.5->quant-risk) (4.6.3)\n",
      "Requirement already satisfied: chardet<5,>=3.0.2 in /Users/uday/.local/share/virtualenvs/Risk-z14c5i0K/lib/python3.7/site-packages (from requests>=2.19.0->pandas-datareader>=0.2->empyrical==0.5.5->quant-risk) (4.0.0)\n",
      "Requirement already satisfied: idna<3,>=2.5 in /Users/uday/.local/share/virtualenvs/Risk-z14c5i0K/lib/python3.7/site-packages (from requests>=2.19.0->pandas-datareader>=0.2->empyrical==0.5.5->quant-risk) (2.10)\n",
      "Requirement already satisfied: urllib3<1.27,>=1.21.1 in /Users/uday/.local/share/virtualenvs/Risk-z14c5i0K/lib/python3.7/site-packages (from requests>=2.19.0->pandas-datareader>=0.2->empyrical==0.5.5->quant-risk) (1.26.5)\n",
      "Requirement already satisfied: certifi>=2017.4.17 in /Users/uday/.local/share/virtualenvs/Risk-z14c5i0K/lib/python3.7/site-packages (from requests>=2.19.0->pandas-datareader>=0.2->empyrical==0.5.5->quant-risk) (2021.5.30)\n",
      "Requirement already satisfied: scikit-learn in /Users/uday/.local/share/virtualenvs/Risk-z14c5i0K/lib/python3.7/site-packages (from sklearn->quant-risk) (0.24.2)\n",
      "Requirement already satisfied: threadpoolctl>=2.0.0 in /Users/uday/.local/share/virtualenvs/Risk-z14c5i0K/lib/python3.7/site-packages (from scikit-learn->sklearn->quant-risk) (2.1.0)\n",
      "Requirement already satisfied: joblib>=0.11 in /Users/uday/.local/share/virtualenvs/Risk-z14c5i0K/lib/python3.7/site-packages (from scikit-learn->sklearn->quant-risk) (1.0.1)\n",
      "Installing collected packages: pandas-datareader, pyportfolioopt, empyrical, quant-risk\n",
      "  Attempting uninstall: pyportfolioopt\n",
      "    Found existing installation: pyportfolioopt 1.4.1\n",
      "    Uninstalling pyportfolioopt-1.4.1:\n",
      "      Successfully uninstalled pyportfolioopt-1.4.1\n",
      "Successfully installed empyrical-0.5.5 pandas-datareader-0.10.0 pyportfolioopt-1.4.2 quant-risk-1.1.1\n",
      "\u001b[33mWARNING: You are using pip version 21.1.2; however, version 21.2.4 is available.\n",
      "You should consider upgrading via the '/Users/uday/.local/share/virtualenvs/Risk-z14c5i0K/bin/python -m pip install --upgrade pip' command.\u001b[0m\n"
     ]
    }
   ],
   "metadata": {}
  },
  {
   "cell_type": "code",
   "execution_count": 10,
   "source": [
    "from quant_risk.portfolio import mean_variance\n",
    "import yfinance as yf\n",
    "import pandas as pd"
   ],
   "outputs": [],
   "metadata": {}
  },
  {
   "cell_type": "code",
   "execution_count": 21,
   "source": [
    "#hist = yf.download(tickers=['AAPL','GM', 'GOOG','PYPL','TSLA'], period='1y')['Close']\n",
    "hist = pd.read_csv(\"hist.csv\")"
   ],
   "outputs": [],
   "metadata": {}
  },
  {
   "cell_type": "code",
   "execution_count": 22,
   "source": [
    "hist"
   ],
   "outputs": [
    {
     "output_type": "execute_result",
     "data": {
      "text/plain": [
       "                  AAPL         GM         GOOG        PYPL        TSLA\n",
       "Date                                                                  \n",
       "2020-09-02  131.399994  30.959999  1728.280029  210.820007  447.369995\n",
       "2020-09-03  120.879997  29.480000  1641.839966  204.990005  407.000000\n",
       "2020-09-04  120.959999  30.000000  1591.040039  191.839996  418.320007\n",
       "2020-09-08  112.820000  32.380001  1532.390015  185.949997  330.209991\n",
       "2020-09-09  117.320000  31.950001  1556.959961  194.600006  366.279999\n",
       "...                ...        ...          ...         ...         ...\n",
       "2021-08-26  147.539993  48.619999  2842.459961  273.619995  701.159973\n",
       "2021-08-27  148.600006  49.799999  2891.010010  278.329987  711.919983\n",
       "2021-08-30  153.119995  49.169998  2909.389893  288.470001  730.909973\n",
       "2021-08-31  151.830002  49.009998  2909.239990  288.660004  735.719971\n",
       "2021-09-01  152.509995  49.110001  2916.840088  286.750000  734.090027\n",
       "\n",
       "[252 rows x 5 columns]"
      ],
      "text/html": [
       "<div>\n",
       "<style scoped>\n",
       "    .dataframe tbody tr th:only-of-type {\n",
       "        vertical-align: middle;\n",
       "    }\n",
       "\n",
       "    .dataframe tbody tr th {\n",
       "        vertical-align: top;\n",
       "    }\n",
       "\n",
       "    .dataframe thead th {\n",
       "        text-align: right;\n",
       "    }\n",
       "</style>\n",
       "<table border=\"1\" class=\"dataframe\">\n",
       "  <thead>\n",
       "    <tr style=\"text-align: right;\">\n",
       "      <th></th>\n",
       "      <th>AAPL</th>\n",
       "      <th>GM</th>\n",
       "      <th>GOOG</th>\n",
       "      <th>PYPL</th>\n",
       "      <th>TSLA</th>\n",
       "    </tr>\n",
       "    <tr>\n",
       "      <th>Date</th>\n",
       "      <th></th>\n",
       "      <th></th>\n",
       "      <th></th>\n",
       "      <th></th>\n",
       "      <th></th>\n",
       "    </tr>\n",
       "  </thead>\n",
       "  <tbody>\n",
       "    <tr>\n",
       "      <th>2020-09-02</th>\n",
       "      <td>131.399994</td>\n",
       "      <td>30.959999</td>\n",
       "      <td>1728.280029</td>\n",
       "      <td>210.820007</td>\n",
       "      <td>447.369995</td>\n",
       "    </tr>\n",
       "    <tr>\n",
       "      <th>2020-09-03</th>\n",
       "      <td>120.879997</td>\n",
       "      <td>29.480000</td>\n",
       "      <td>1641.839966</td>\n",
       "      <td>204.990005</td>\n",
       "      <td>407.000000</td>\n",
       "    </tr>\n",
       "    <tr>\n",
       "      <th>2020-09-04</th>\n",
       "      <td>120.959999</td>\n",
       "      <td>30.000000</td>\n",
       "      <td>1591.040039</td>\n",
       "      <td>191.839996</td>\n",
       "      <td>418.320007</td>\n",
       "    </tr>\n",
       "    <tr>\n",
       "      <th>2020-09-08</th>\n",
       "      <td>112.820000</td>\n",
       "      <td>32.380001</td>\n",
       "      <td>1532.390015</td>\n",
       "      <td>185.949997</td>\n",
       "      <td>330.209991</td>\n",
       "    </tr>\n",
       "    <tr>\n",
       "      <th>2020-09-09</th>\n",
       "      <td>117.320000</td>\n",
       "      <td>31.950001</td>\n",
       "      <td>1556.959961</td>\n",
       "      <td>194.600006</td>\n",
       "      <td>366.279999</td>\n",
       "    </tr>\n",
       "    <tr>\n",
       "      <th>...</th>\n",
       "      <td>...</td>\n",
       "      <td>...</td>\n",
       "      <td>...</td>\n",
       "      <td>...</td>\n",
       "      <td>...</td>\n",
       "    </tr>\n",
       "    <tr>\n",
       "      <th>2021-08-26</th>\n",
       "      <td>147.539993</td>\n",
       "      <td>48.619999</td>\n",
       "      <td>2842.459961</td>\n",
       "      <td>273.619995</td>\n",
       "      <td>701.159973</td>\n",
       "    </tr>\n",
       "    <tr>\n",
       "      <th>2021-08-27</th>\n",
       "      <td>148.600006</td>\n",
       "      <td>49.799999</td>\n",
       "      <td>2891.010010</td>\n",
       "      <td>278.329987</td>\n",
       "      <td>711.919983</td>\n",
       "    </tr>\n",
       "    <tr>\n",
       "      <th>2021-08-30</th>\n",
       "      <td>153.119995</td>\n",
       "      <td>49.169998</td>\n",
       "      <td>2909.389893</td>\n",
       "      <td>288.470001</td>\n",
       "      <td>730.909973</td>\n",
       "    </tr>\n",
       "    <tr>\n",
       "      <th>2021-08-31</th>\n",
       "      <td>151.830002</td>\n",
       "      <td>49.009998</td>\n",
       "      <td>2909.239990</td>\n",
       "      <td>288.660004</td>\n",
       "      <td>735.719971</td>\n",
       "    </tr>\n",
       "    <tr>\n",
       "      <th>2021-09-01</th>\n",
       "      <td>152.509995</td>\n",
       "      <td>49.110001</td>\n",
       "      <td>2916.840088</td>\n",
       "      <td>286.750000</td>\n",
       "      <td>734.090027</td>\n",
       "    </tr>\n",
       "  </tbody>\n",
       "</table>\n",
       "<p>252 rows × 5 columns</p>\n",
       "</div>"
      ]
     },
     "metadata": {},
     "execution_count": 22
    }
   ],
   "metadata": {}
  },
  {
   "cell_type": "markdown",
   "source": [
    "# MeanVariance"
   ],
   "metadata": {}
  },
  {
   "cell_type": "code",
   "execution_count": 23,
   "source": [
    "port = mean_variance.MeanVariance(hist)"
   ],
   "outputs": [],
   "metadata": {}
  },
  {
   "cell_type": "code",
   "execution_count": 24,
   "source": [
    "port.fit('max_sharpe')"
   ],
   "outputs": [
    {
     "output_type": "execute_result",
     "data": {
      "text/plain": [
       "{'AAPL': 0.0,\n",
       " 'GM': 0.2240785994256096,\n",
       " 'GOOG': 0.7330827355069789,\n",
       " 'PYPL': 0.0,\n",
       " 'TSLA': 0.0428386650674116}"
      ]
     },
     "metadata": {},
     "execution_count": 24
    }
   ],
   "metadata": {}
  },
  {
   "cell_type": "code",
   "execution_count": 25,
   "source": [
    "port.stats()"
   ],
   "outputs": [
    {
     "output_type": "stream",
     "name": "stdout",
     "text": [
      "Expected annual return: 66.6%\n",
      "Annual volatility: 24.4%\n",
      "Sharpe Ratio: 2.65\n"
     ]
    },
    {
     "output_type": "execute_result",
     "data": {
      "text/plain": [
       "(0.6663448532344555, 0.24386787050609643, 2.650389540422454)"
      ]
     },
     "metadata": {},
     "execution_count": 25
    }
   ],
   "metadata": {}
  },
  {
   "cell_type": "code",
   "execution_count": 28,
   "source": [
    "port.getCovarianceMatrix()"
   ],
   "outputs": [
    {
     "output_type": "execute_result",
     "data": {
      "text/plain": [
       "          AAPL        GM      GOOG      PYPL      TSLA\n",
       "AAPL  0.102044  0.006234  0.043534  0.066021  0.089663\n",
       "GM    0.006234  0.160514  0.021243  0.011254  0.019356\n",
       "GOOG  0.043534  0.021243  0.074835  0.045165  0.049993\n",
       "PYPL  0.066021  0.011254  0.045165  0.153461  0.103456\n",
       "TSLA  0.089663  0.019356  0.049993  0.103456  0.383817"
      ],
      "text/html": [
       "<div>\n",
       "<style scoped>\n",
       "    .dataframe tbody tr th:only-of-type {\n",
       "        vertical-align: middle;\n",
       "    }\n",
       "\n",
       "    .dataframe tbody tr th {\n",
       "        vertical-align: top;\n",
       "    }\n",
       "\n",
       "    .dataframe thead th {\n",
       "        text-align: right;\n",
       "    }\n",
       "</style>\n",
       "<table border=\"1\" class=\"dataframe\">\n",
       "  <thead>\n",
       "    <tr style=\"text-align: right;\">\n",
       "      <th></th>\n",
       "      <th>AAPL</th>\n",
       "      <th>GM</th>\n",
       "      <th>GOOG</th>\n",
       "      <th>PYPL</th>\n",
       "      <th>TSLA</th>\n",
       "    </tr>\n",
       "  </thead>\n",
       "  <tbody>\n",
       "    <tr>\n",
       "      <th>AAPL</th>\n",
       "      <td>0.102044</td>\n",
       "      <td>0.006234</td>\n",
       "      <td>0.043534</td>\n",
       "      <td>0.066021</td>\n",
       "      <td>0.089663</td>\n",
       "    </tr>\n",
       "    <tr>\n",
       "      <th>GM</th>\n",
       "      <td>0.006234</td>\n",
       "      <td>0.160514</td>\n",
       "      <td>0.021243</td>\n",
       "      <td>0.011254</td>\n",
       "      <td>0.019356</td>\n",
       "    </tr>\n",
       "    <tr>\n",
       "      <th>GOOG</th>\n",
       "      <td>0.043534</td>\n",
       "      <td>0.021243</td>\n",
       "      <td>0.074835</td>\n",
       "      <td>0.045165</td>\n",
       "      <td>0.049993</td>\n",
       "    </tr>\n",
       "    <tr>\n",
       "      <th>PYPL</th>\n",
       "      <td>0.066021</td>\n",
       "      <td>0.011254</td>\n",
       "      <td>0.045165</td>\n",
       "      <td>0.153461</td>\n",
       "      <td>0.103456</td>\n",
       "    </tr>\n",
       "    <tr>\n",
       "      <th>TSLA</th>\n",
       "      <td>0.089663</td>\n",
       "      <td>0.019356</td>\n",
       "      <td>0.049993</td>\n",
       "      <td>0.103456</td>\n",
       "      <td>0.383817</td>\n",
       "    </tr>\n",
       "  </tbody>\n",
       "</table>\n",
       "</div>"
      ]
     },
     "metadata": {},
     "execution_count": 28
    }
   ],
   "metadata": {}
  },
  {
   "cell_type": "markdown",
   "source": [
    "# Statistics\n",
    "\n",
    "## Tests"
   ],
   "metadata": {}
  },
  {
   "cell_type": "code",
   "execution_count": 31,
   "source": [
    "import quant_risk as qr"
   ],
   "outputs": [],
   "metadata": {}
  },
  {
   "cell_type": "markdown",
   "source": [
    "* stationary_test_adf\n",
    "* granger_causality\n",
    "* granger_causality_matrix\n",
    "* ACF\n",
    "* PACF\n",
    "* hurst_exponent"
   ],
   "metadata": {}
  },
  {
   "cell_type": "code",
   "execution_count": 34,
   "source": [
    "qr.statistics.tests.stationary_test_adf(hist['AAPL'])"
   ],
   "outputs": [
    {
     "output_type": "stream",
     "name": "stdout",
     "text": [
      "ADF Statistic: -1.105355\n",
      "p-value: 0.712932\n",
      "Critical Values:\n",
      "\t1%: -3.457\n",
      "\t5%: -2.873\n",
      "\t10%: -2.573\n"
     ]
    },
    {
     "output_type": "execute_result",
     "data": {
      "text/plain": [
       "{'pvalue': 0.7129316911995061,\n",
       " 'Test Statistic': -1.1053549600226804,\n",
       " 'Is stationary': False}"
      ]
     },
     "metadata": {},
     "execution_count": 34
    }
   ],
   "metadata": {}
  },
  {
   "cell_type": "code",
   "execution_count": 37,
   "source": [
    "qr.statistics.tests.granger_causality(hist[['AAPL','GM']],maxLags=7)"
   ],
   "outputs": [
    {
     "output_type": "stream",
     "name": "stdout",
     "text": [
      "--------------- \n",
      "\n",
      "AAPL\n",
      "ADF Statistic: -1.105355\n",
      "p-value: 0.712932\n",
      "Critical Values:\n",
      "\t1%: -3.457\n",
      "\t5%: -2.873\n",
      "\t10%: -2.573\n",
      "--------------- \n",
      "\n",
      "GM\n",
      "ADF Statistic: -1.843463\n",
      "p-value: 0.359107\n",
      "Critical Values:\n",
      "\t1%: -3.457\n",
      "\t5%: -2.873\n",
      "\t10%: -2.573\n"
     ]
    },
    {
     "output_type": "error",
     "ename": "ValueError",
     "evalue": "AAPL is not stationary",
     "traceback": [
      "\u001b[0;31m---------------------------------------------------------------------------\u001b[0m",
      "\u001b[0;31mValueError\u001b[0m                                Traceback (most recent call last)",
      "\u001b[0;32m<ipython-input-37-06d66a1ff79d>\u001b[0m in \u001b[0;36m<module>\u001b[0;34m\u001b[0m\n\u001b[0;32m----> 1\u001b[0;31m \u001b[0mqr\u001b[0m\u001b[0;34m.\u001b[0m\u001b[0mstatistics\u001b[0m\u001b[0;34m.\u001b[0m\u001b[0mtests\u001b[0m\u001b[0;34m.\u001b[0m\u001b[0mgranger_causality\u001b[0m\u001b[0;34m(\u001b[0m\u001b[0mhist\u001b[0m\u001b[0;34m[\u001b[0m\u001b[0;34m[\u001b[0m\u001b[0;34m'AAPL'\u001b[0m\u001b[0;34m,\u001b[0m\u001b[0;34m'GM'\u001b[0m\u001b[0;34m]\u001b[0m\u001b[0;34m]\u001b[0m\u001b[0;34m,\u001b[0m\u001b[0mmaxLags\u001b[0m\u001b[0;34m=\u001b[0m\u001b[0;36m7\u001b[0m\u001b[0;34m)\u001b[0m\u001b[0;34m\u001b[0m\u001b[0;34m\u001b[0m\u001b[0m\n\u001b[0m",
      "\u001b[0;32m~/Desktop/Quant/Quantitative Asset Management/Risk/quant_risk/statistics/tests.py\u001b[0m in \u001b[0;36mgranger_causality\u001b[0;34m(series, maxLags, addConst, verbose, testToUse)\u001b[0m\n\u001b[1;32m    108\u001b[0m \u001b[0;34m\u001b[0m\u001b[0m\n\u001b[1;32m    109\u001b[0m         \u001b[0;32mif\u001b[0m \u001b[0mstationarity_results\u001b[0m\u001b[0;34m[\u001b[0m\u001b[0mkey\u001b[0m\u001b[0;34m]\u001b[0m\u001b[0;34m[\u001b[0m\u001b[0;34m'Is stationary'\u001b[0m\u001b[0;34m]\u001b[0m \u001b[0;34m==\u001b[0m \u001b[0;32mFalse\u001b[0m\u001b[0;34m:\u001b[0m\u001b[0;34m\u001b[0m\u001b[0;34m\u001b[0m\u001b[0m\n\u001b[0;32m--> 110\u001b[0;31m             \u001b[0;32mraise\u001b[0m \u001b[0mValueError\u001b[0m\u001b[0;34m(\u001b[0m\u001b[0;34mf\"{key} is not stationary\"\u001b[0m\u001b[0;34m)\u001b[0m\u001b[0;34m\u001b[0m\u001b[0;34m\u001b[0m\u001b[0m\n\u001b[0m\u001b[1;32m    111\u001b[0m \u001b[0;34m\u001b[0m\u001b[0m\n\u001b[1;32m    112\u001b[0m     \u001b[0mresults\u001b[0m \u001b[0;34m=\u001b[0m \u001b[0mgrangercausalitytests\u001b[0m\u001b[0;34m(\u001b[0m\u001b[0mseries\u001b[0m\u001b[0;34m,\u001b[0m \u001b[0mmaxlag\u001b[0m\u001b[0;34m=\u001b[0m\u001b[0mmaxLags\u001b[0m\u001b[0;34m,\u001b[0m\u001b[0maddconst\u001b[0m\u001b[0;34m=\u001b[0m\u001b[0maddConst\u001b[0m\u001b[0;34m,\u001b[0m\u001b[0mverbose\u001b[0m\u001b[0;34m=\u001b[0m\u001b[0mverbose\u001b[0m\u001b[0;34m)\u001b[0m\u001b[0;34m\u001b[0m\u001b[0;34m\u001b[0m\u001b[0m\n",
      "\u001b[0;31mValueError\u001b[0m: AAPL is not stationary"
     ]
    }
   ],
   "metadata": {}
  },
  {
   "cell_type": "code",
   "execution_count": 49,
   "source": [
    "differenced = hist.diff().dropna()\n",
    "qr.statistics.tests.granger_causality(differenced[['AAPL','GM']],maxLags=7)"
   ],
   "outputs": [
    {
     "output_type": "stream",
     "name": "stdout",
     "text": [
      "--------------- \n",
      "\n",
      "AAPL\n",
      "ADF Statistic: -18.258317\n",
      "p-value: 0.000000\n",
      "Critical Values:\n",
      "\t1%: -3.457\n",
      "\t5%: -2.873\n",
      "\t10%: -2.573\n",
      "--------------- \n",
      "\n",
      "GM\n",
      "ADF Statistic: -16.424713\n",
      "p-value: 0.000000\n",
      "Critical Values:\n",
      "\t1%: -3.457\n",
      "\t5%: -2.873\n",
      "\t10%: -2.573\n",
      "\n",
      "Granger Causality\n",
      "number of lags (no zero) 1\n",
      "ssr based F test:         F=0.9350  , p=0.3345  , df_denom=247, df_num=1\n",
      "ssr based chi2 test:   chi2=0.9464  , p=0.3306  , df=1\n",
      "likelihood ratio test: chi2=0.9446  , p=0.3311  , df=1\n",
      "parameter F test:         F=0.9350  , p=0.3345  , df_denom=247, df_num=1\n",
      "\n",
      "Granger Causality\n",
      "number of lags (no zero) 2\n",
      "ssr based F test:         F=0.8765  , p=0.4176  , df_denom=244, df_num=2\n",
      "ssr based chi2 test:   chi2=1.7889  , p=0.4088  , df=2\n",
      "likelihood ratio test: chi2=1.7825  , p=0.4101  , df=2\n",
      "parameter F test:         F=0.8765  , p=0.4176  , df_denom=244, df_num=2\n",
      "\n",
      "Granger Causality\n",
      "number of lags (no zero) 3\n",
      "ssr based F test:         F=1.4935  , p=0.2169  , df_denom=241, df_num=3\n",
      "ssr based chi2 test:   chi2=4.6106  , p=0.2026  , df=3\n",
      "likelihood ratio test: chi2=4.5683  , p=0.2063  , df=3\n",
      "parameter F test:         F=1.4935  , p=0.2169  , df_denom=241, df_num=3\n",
      "\n",
      "Granger Causality\n",
      "number of lags (no zero) 4\n",
      "ssr based F test:         F=1.3224  , p=0.2623  , df_denom=238, df_num=4\n",
      "ssr based chi2 test:   chi2=5.4895  , p=0.2407  , df=4\n",
      "likelihood ratio test: chi2=5.4294  , p=0.2460  , df=4\n",
      "parameter F test:         F=1.3224  , p=0.2623  , df_denom=238, df_num=4\n",
      "\n",
      "Granger Causality\n",
      "number of lags (no zero) 5\n",
      "ssr based F test:         F=1.0005  , p=0.4182  , df_denom=235, df_num=5\n",
      "ssr based chi2 test:   chi2=5.2365  , p=0.3877  , df=5\n",
      "likelihood ratio test: chi2=5.1816  , p=0.3941  , df=5\n",
      "parameter F test:         F=1.0005  , p=0.4182  , df_denom=235, df_num=5\n",
      "\n",
      "Granger Causality\n",
      "number of lags (no zero) 6\n",
      "ssr based F test:         F=0.9101  , p=0.4883  , df_denom=232, df_num=6\n",
      "ssr based chi2 test:   chi2=5.7667  , p=0.4498  , df=6\n",
      "likelihood ratio test: chi2=5.6999  , p=0.4576  , df=6\n",
      "parameter F test:         F=0.9101  , p=0.4883  , df_denom=232, df_num=6\n",
      "\n",
      "Granger Causality\n",
      "number of lags (no zero) 7\n",
      "ssr based F test:         F=0.9174  , p=0.4936  , df_denom=229, df_num=7\n",
      "ssr based chi2 test:   chi2=6.8428  , p=0.4454  , df=7\n",
      "likelihood ratio test: chi2=6.7486  , p=0.4555  , df=7\n",
      "parameter F test:         F=0.9174  , p=0.4936  , df_denom=229, df_num=7\n"
     ]
    },
    {
     "output_type": "execute_result",
     "data": {
      "text/plain": [
       "{'pvalue': 0.2169, 'lag': 2}"
      ]
     },
     "metadata": {},
     "execution_count": 49
    }
   ],
   "metadata": {}
  },
  {
   "cell_type": "code",
   "execution_count": 51,
   "source": [
    "qr.tests.hurst_exponent(hist,maxlag=7)"
   ],
   "outputs": [
    {
     "output_type": "execute_result",
     "data": {
      "text/plain": [
       "array([0.41003339, 0.50982799, 0.44852163, 0.50745352, 0.45603623])"
      ]
     },
     "metadata": {},
     "execution_count": 51
    }
   ],
   "metadata": {}
  },
  {
   "cell_type": "markdown",
   "source": [
    "## Stats\n",
    "\n",
    "* calculate_skewness\n",
    "* calculate_kurtosis\n",
    "* is_stable\n",
    "* maximum_drawdown\n",
    "* cumulative_returns\n",
    "* elton_gruber_covariance\n",
    "* covariance_shrinkage\n",
    "* risk_contribution"
   ],
   "metadata": {}
  },
  {
   "cell_type": "code",
   "execution_count": 52,
   "source": [
    "qr.statistics.stats.calculate_skewness(hist)"
   ],
   "outputs": [
    {
     "output_type": "execute_result",
     "data": {
      "text/plain": [
       "array([ 0.34077684, -0.67622619,  0.1683296 , -0.24192257, -0.32074768])"
      ]
     },
     "metadata": {},
     "execution_count": 52
    }
   ],
   "metadata": {}
  },
  {
   "cell_type": "code",
   "execution_count": 60,
   "source": [
    "qr.statistics.stats.maximum_drawdown(hist['AAPL'])"
   ],
   "outputs": [
    {
     "output_type": "execute_result",
     "data": {
      "text/plain": [
       "-0.18720314589410048"
      ]
     },
     "metadata": {},
     "execution_count": 60
    }
   ],
   "metadata": {}
  },
  {
   "cell_type": "code",
   "execution_count": 61,
   "source": [
    "qr.statistics.stats.cumulative_returns(hist['AAPL'])"
   ],
   "outputs": [
    {
     "output_type": "execute_result",
     "data": {
      "text/plain": [
       "Date\n",
       "2020-09-03   -0.080061\n",
       "2020-09-04   -0.079452\n",
       "2020-09-08   -0.141400\n",
       "2020-09-09   -0.107154\n",
       "2020-09-10   -0.136301\n",
       "                ...   \n",
       "2021-08-26    0.122831\n",
       "2021-08-27    0.130898\n",
       "2021-08-30    0.165297\n",
       "2021-08-31    0.155480\n",
       "2021-09-01    0.160655\n",
       "Length: 251, dtype: float64"
      ]
     },
     "metadata": {},
     "execution_count": 61
    }
   ],
   "metadata": {}
  },
  {
   "cell_type": "code",
   "execution_count": null,
   "source": [],
   "outputs": [],
   "metadata": {}
  }
 ],
 "metadata": {
  "orig_nbformat": 4,
  "language_info": {
   "name": "python",
   "version": "3.7.10",
   "mimetype": "text/x-python",
   "codemirror_mode": {
    "name": "ipython",
    "version": 3
   },
   "pygments_lexer": "ipython3",
   "nbconvert_exporter": "python",
   "file_extension": ".py"
  },
  "kernelspec": {
   "name": "python3",
   "display_name": "Python 3.7.10 64-bit ('Risk-z14c5i0K': venv)"
  },
  "interpreter": {
   "hash": "fc48a2c494015754350a8c6c25e3d5484603c9831f211b9d7d865e6993f35cdc"
  }
 },
 "nbformat": 4,
 "nbformat_minor": 2
}